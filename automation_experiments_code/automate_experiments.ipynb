{
 "cells": [
  {
   "cell_type": "code",
   "execution_count": 1,
   "id": "9981f793-6a02-4674-a924-2c699fb76566",
   "metadata": {},
   "outputs": [],
   "source": [
    "import cv2\n",
    "import numpy as np\n",
    "import pandas as pd\n",
    "import matplotlib.pyplot as plt\n",
    "import seaborn as sns\n",
    "import math\n",
    "from math import floor, log10"
   ]
  },
  {
   "cell_type": "markdown",
   "id": "e560706f-57b9-45e6-8281-aa1a2b4dc1fd",
   "metadata": {},
   "source": [
    "### Start here to explore new camera\n",
    "{\n",
    "    \"tags\": [\n",
    "        \"hide-cell\"\n",
    "    ]\n",
    "}"
   ]
  },
  {
   "cell_type": "code",
   "execution_count": 34,
   "id": "1a586651-ab9c-485d-a51c-2499307b1968",
   "metadata": {},
   "outputs": [],
   "source": [
    "bottom_manual = []"
   ]
  },
  {
   "cell_type": "code",
   "execution_count": 842,
   "id": "ba5b1863-fb4e-419b-b630-64c0b40429b4",
   "metadata": {},
   "outputs": [
    {
     "name": "stdout",
     "output_type": "stream",
     "text": [
      "935   231\n"
     ]
    }
   ],
   "source": [
    "# https://www.geeksforgeeks.org/displaying-the-coordinates-of-the-points-clicked-on-the-image-using-python-opencv/\n",
    "# function to display the coordinates of \n",
    "# of the points clicked on the image\n",
    "x_horizontal_temp = []\n",
    "y_vertical_temp = []\n",
    "def click_event(event, x, y, flags, params): \n",
    "\n",
    "    # checking for left mouse clicks \n",
    "    if event == cv2.EVENT_LBUTTONDOWN: \n",
    "\n",
    "        # displaying the coordinates \n",
    "        # on the Shell \n",
    "        print(x, ' ', y)\n",
    "        x_horizontal_temp.append(x)\n",
    "        y_vertical_temp.append(y)\n",
    "\n",
    "        # displaying the coordinates\n",
    "        # on the image window \n",
    "        font = cv2.FONT_HERSHEY_SIMPLEX\n",
    "        cv2.putText(img, str(x) + ',' + str(y), (x,y), font, 1, (255, 0, 0), 2)\n",
    "        # draw point on the image\n",
    "        cv2.circle(img, (x,y), 3, (0,255,255), -1)\n",
    "        cv2.imshow('image', img) \n",
    "\n",
    "    # checking for right mouse clicks\t \n",
    "    if event==cv2.EVENT_RBUTTONDOWN: \n",
    "\n",
    "        # displaying the coordinates \n",
    "        # on the Shell \n",
    "        print(x, ' ', y) \n",
    "\n",
    "        # displaying the coordinates \n",
    "        # on the image window \n",
    "        font = cv2.FONT_HERSHEY_SIMPLEX \n",
    "        b = img[y, x, 0] \n",
    "        g = img[y, x, 1] \n",
    "        r = img[y, x, 2] \n",
    "        cv2.putText(img, str(b) + ',' + str(g) + ',' + str(r), (x,y), font, 1, (255, 255, 0), 2) \n",
    "        cv2.imshow('image', img) \n",
    "\n",
    "\n",
    "# reading the image \n",
    "img = cv2.imread('camera01_20240926/camera01_202409261515.jpg', 1) \n",
    "\n",
    "# displaying the image \n",
    "cv2.imshow('image', img) \n",
    "\n",
    "# setting mouse handler for the image \n",
    "# and calling the click_event() function \n",
    "cv2.setMouseCallback('image', click_event) \n",
    "\n",
    "# wait for a key to be pressed to exit \n",
    "cv2.waitKey(0) \n",
    "\n",
    "# close the window \n",
    "cv2.destroyAllWindows() \n"
   ]
  },
  {
   "cell_type": "code",
   "execution_count": 843,
   "id": "cf51f89f-fef0-42cd-a325-2425d33afd08",
   "metadata": {},
   "outputs": [],
   "source": [
    "bottom_manual.append(231)"
   ]
  },
  {
   "cell_type": "code",
   "execution_count": null,
   "id": "24bbf9b1-13b9-495f-854a-7f9ef339f1f5",
   "metadata": {},
   "outputs": [],
   "source": [
    "def sig_figs(x: float, precision: int):\n",
    "    \"\"\"\n",
    "    Rounds a number to number of significant figures\n",
    "    Parameters:\n",
    "    - x - the number to be rounded\n",
    "    - precision (integer) - the number of significant figures\n",
    "    Returns:\n",
    "    - float\n",
    "    \"\"\"\n",
    "\n",
    "    x = float(x)\n",
    "    precision = int(precision)\n",
    "\n",
    "    return round(x, -int(floor(log10(abs(x)))) + (precision - 1))"
   ]
  },
  {
   "cell_type": "markdown",
   "id": "ec3aa149-93ff-4108-ae7d-46da5eb477bf",
   "metadata": {},
   "source": [
    "### Start here for batch analysis\n",
    "{\n",
    "    \"tags\": [\n",
    "        \"hide-cell\"\n",
    "    ]\n",
    "}"
   ]
  },
  {
   "cell_type": "code",
   "execution_count": 668,
   "id": "be821f63-a465-40ce-ad83-20cd687c6806",
   "metadata": {},
   "outputs": [],
   "source": [
    "#For Contour Analysis\n",
    "# date_time=[]\n",
    "# counts=[]\n",
    "# last_length=[]"
   ]
  },
  {
   "cell_type": "code",
   "execution_count": 2,
   "id": "a6acfa51-1825-4e2f-949d-de056aa51d15",
   "metadata": {},
   "outputs": [],
   "source": [
    "#For Pixel Analysis\n",
    "# date_time=[]\n",
    "# top=[]\n",
    "# bottom=[]"
   ]
  },
  {
   "cell_type": "code",
   "execution_count": 844,
   "id": "da4efb12-fb9c-4555-b5e5-86df5fa023c4",
   "metadata": {},
   "outputs": [],
   "source": [
    "# Load your image with OpenCV\n",
    "img_name = 'camera01_20240926/camera01_202409261515.jpg'\n",
    "image = cv2.imread(img_name)\n",
    "\n",
    "# displaying the image \n",
    "cv2.imshow('image', image)\n",
    "\n",
    "# wait for a key to be pressed to exit \n",
    "cv2.waitKey(0) \n",
    "\n",
    "# close the window \n",
    "cv2.destroyAllWindows()"
   ]
  },
  {
   "cell_type": "code",
   "execution_count": 845,
   "id": "6a340c7a-3a0d-483f-a626-ee6bb2d2a993",
   "metadata": {},
   "outputs": [
    {
     "name": "stdout",
     "output_type": "stream",
     "text": [
      "202409261515\n"
     ]
    }
   ],
   "source": [
    "datetime_str = img_name[-16:-4]  # Extract '202409260000'\n",
    "print(datetime_str)"
   ]
  },
  {
   "cell_type": "code",
   "execution_count": 846,
   "id": "5d66fa4a-4ac2-4e87-b07c-0884d2a0375e",
   "metadata": {},
   "outputs": [],
   "source": [
    "date_time.append(datetime_str)"
   ]
  },
  {
   "cell_type": "code",
   "execution_count": 847,
   "id": "fee1d0d0-d80a-4828-a086-c39fc5193fc2",
   "metadata": {},
   "outputs": [],
   "source": [
    "# Not necessarily top but a sample point on the bar\n",
    "approxy_top_v = 200\n",
    "approxy_top_h = 930\n",
    "\n",
    "# approxy_top_v = 250\n",
    "# approxy_top_h = 590\n",
    "\n",
    "# approxy_top_v = 435\n",
    "# approxy_top_h = 950\n",
    "\n",
    "# approxy_top_v = 430\n",
    "# approxy_top_h = 630"
   ]
  },
  {
   "cell_type": "code",
   "execution_count": 848,
   "id": "a10d406a-3436-4a88-9466-ad4ac2647139",
   "metadata": {},
   "outputs": [
    {
     "data": {
      "text/plain": [
       "array([ 99, 101, 111], dtype=uint8)"
      ]
     },
     "execution_count": 848,
     "metadata": {},
     "output_type": "execute_result"
    }
   ],
   "source": [
    "image[approxy_top_v, approxy_top_h]"
   ]
  },
  {
   "cell_type": "code",
   "execution_count": 849,
   "id": "c0902e1b-17ae-4994-a653-cd684a38dcc7",
   "metadata": {},
   "outputs": [],
   "source": [
    "def adjust_gamma(image, gamma=1.0):\n",
    "\t# build a lookup table mapping the pixel values [0, 255] to\n",
    "\t# their adjusted gamma values\n",
    "\tinvGamma = 1.0 / gamma\n",
    "\ttable = np.array([((i / 255.0) ** invGamma) * 255\n",
    "\t\tfor i in np.arange(0, 256)]).astype(\"uint8\")\n",
    "\t# apply gamma correction using the lookup table\n",
    "\treturn cv2.LUT(image, table)"
   ]
  },
  {
   "cell_type": "code",
   "execution_count": 850,
   "id": "07f3ad86-9cf2-435a-bfe5-9255c3b0daa2",
   "metadata": {},
   "outputs": [],
   "source": [
    "adjusted = adjust_gamma(image, gamma=1.05)"
   ]
  },
  {
   "cell_type": "markdown",
   "id": "1138d1ec-0ea2-4f8a-ba10-9d2b58dae9e8",
   "metadata": {},
   "source": [
    "### Sample water pixels\n",
    "{\r\n",
    "    \"tags\": [\r\n",
    "        \"hide-cell\"\r\n",
    "    ]\r\n",
    "}"
   ]
  },
  {
   "cell_type": "code",
   "execution_count": 851,
   "id": "3147dcd7-f1be-498e-aaff-8cd4763abad4",
   "metadata": {},
   "outputs": [],
   "source": [
    "vertical_coords = np.linspace(approxy_top_v, approxy_top_v+50, 50).round().astype('int64')"
   ]
  },
  {
   "cell_type": "code",
   "execution_count": 852,
   "id": "8e3d704a-1b3a-4ed8-b1bb-b7dfb90e7406",
   "metadata": {},
   "outputs": [],
   "source": [
    "water_b=[]\n",
    "water_g=[]\n",
    "water_r=[]\n",
    "\n",
    "for x in vertical_coords:\n",
    "    # print('coordinates', y, x)\n",
    "    # print(img[x, y])\n",
    "    b, g, r = adjusted[x, approxy_top_h+10]\n",
    "    \n",
    "    water_b.append(b)\n",
    "    water_g.append(g)\n",
    "    water_r.append(r)"
   ]
  },
  {
   "cell_type": "code",
   "execution_count": 710,
   "id": "48db27a7-4c9f-43ed-b4eb-614c929f47e3",
   "metadata": {
    "scrolled": true
   },
   "outputs": [],
   "source": [
    "# water_r"
   ]
  },
  {
   "cell_type": "code",
   "execution_count": 853,
   "id": "9bf75e55-adb3-4703-a495-ced3b2d4d09d",
   "metadata": {},
   "outputs": [
    {
     "data": {
      "text/plain": [
       "134"
      ]
     },
     "execution_count": 853,
     "metadata": {},
     "output_type": "execute_result"
    }
   ],
   "source": [
    "r_threshold = np.median(water_r).round().astype('int64')\n",
    "r_threshold"
   ]
  },
  {
   "cell_type": "code",
   "execution_count": 712,
   "id": "5d2ac40d-aaad-46e3-87ac-756f494cef99",
   "metadata": {},
   "outputs": [],
   "source": [
    "#b_threshold, g_threshold, r_threshold = adjusted[approxy_top_v, approxy_top_h+50]"
   ]
  },
  {
   "cell_type": "markdown",
   "id": "505e8021-2814-41fa-abb2-c6b1b5cf8574",
   "metadata": {},
   "source": [
    "### Find contours\n",
    "{\n",
    "    \"tags\": [\n",
    "        \"hide-cell\"\n",
    "    ]\n",
    "}"
   ]
  },
  {
   "cell_type": "code",
   "execution_count": 854,
   "id": "f42a4b4e-d21d-4c37-92a5-c69361ff9c0f",
   "metadata": {},
   "outputs": [],
   "source": [
    "# mask out other objects\n",
    "mask = np.zeros(adjusted.shape[:2], dtype=\"uint8\")\n",
    "cv2.rectangle(mask, (900, 100), (980, 400), 255, -1)\n",
    "# cv2.rectangle(mask, (510, 130), (750, 470), 255, -1)\n",
    "# cv2.rectangle(mask, (910, 340), (1060, 470), 255, -1)\n",
    "# cv2.rectangle(mask, (560, 320), (730, 470), 255, -1)\n",
    "\n",
    "# apply our mask -- notice how only the person in the image is\n",
    "# cropped out\n",
    "masked = cv2.bitwise_and(adjusted, adjusted, mask=mask)\n",
    "cv2.imshow('masked', masked)\n",
    "\n",
    "# upsampled_masked = cv2.pyrUp(masked)\n",
    "# print(\"Size of image after pyrUp: \", upsampled_masked.shape)\n",
    "# cv2.imshow('UpSample', upsampled_masked)\n",
    "\n",
    "# wait for a key to be pressed to exit \n",
    "cv2.waitKey(0) \n",
    "\n",
    "# close the window \n",
    "cv2.destroyAllWindows()"
   ]
  },
  {
   "cell_type": "code",
   "execution_count": 855,
   "id": "598b3824-81e9-45b8-8714-2c33bf22f76e",
   "metadata": {},
   "outputs": [
    {
     "data": {
      "text/plain": [
       "107"
      ]
     },
     "execution_count": 855,
     "metadata": {},
     "output_type": "execute_result"
    }
   ],
   "source": [
    "np.mean(masked[200, 930]).astype('int64')\n",
    "# np.mean(masked[250, 590]).astype('int64')\n",
    "# np.mean(masked[435, 950]).astype('int64')"
   ]
  },
  {
   "cell_type": "code",
   "execution_count": 856,
   "id": "d099064a-fc1a-4c85-a327-9d09a4ca112f",
   "metadata": {},
   "outputs": [
    {
     "data": {
      "text/plain": [
       "119"
      ]
     },
     "execution_count": 856,
     "metadata": {},
     "output_type": "execute_result"
    }
   ],
   "source": [
    "pole_top_threshold = np.mean(masked[approxy_top_v, approxy_top_h]).astype('int64') + 12\n",
    "\n",
    "pole_top_threshold"
   ]
  },
  {
   "cell_type": "code",
   "execution_count": 857,
   "id": "9a44e658-d81f-413c-8eaa-7bfe42113926",
   "metadata": {},
   "outputs": [],
   "source": [
    "img_gray = cv2.cvtColor(masked, cv2.COLOR_BGR2GRAY)\n",
    "ret, thresh = cv2.threshold(img_gray, pole_top_threshold, 255, cv2.THRESH_BINARY)\n",
    "\n",
    "contours, hierarchy = cv2.findContours(thresh, cv2.RETR_EXTERNAL,\n",
    "                                       cv2.CHAIN_APPROX_NONE)\n",
    "masked_copy = masked.copy()\n",
    "cv2.drawContours(masked_copy, contours, -1, (0, 255, 0), 2,\n",
    "                 cv2.LINE_AA)\n",
    "# see the results\n",
    "cv2.imshow('masked_contour', masked_copy)\n",
    "\n",
    "# wait for a key to be pressed to exit \n",
    "cv2.waitKey(0) \n",
    "\n",
    "# close the window \n",
    "cv2.destroyAllWindows()"
   ]
  },
  {
   "cell_type": "code",
   "execution_count": 653,
   "id": "61e11645-5948-41cb-a798-9de42552c7ab",
   "metadata": {},
   "outputs": [],
   "source": [
    "# Crop the image\n",
    "cropped = masked_copy[100:400, 900:980]\n",
    "\n",
    "# cropped = masked_copy[130:470, 510:750]\n",
    "\n",
    "# cropped = masked_copy[340:470, 910:1060]\n",
    "\n",
    "# cropped = masked_copy[320:470, 560:730]\n",
    "\n",
    "# Display the cropped image\n",
    "cv2.imshow('Cropped Image', cropped)\n",
    "cv2.waitKey(0)\n",
    "cv2.destroyAllWindows()"
   ]
  },
  {
   "cell_type": "code",
   "execution_count": null,
   "id": "acad2caa-87f5-40b8-b88f-50afaf5054f8",
   "metadata": {},
   "outputs": [],
   "source": [
    "# Crop the image\n",
    "cropped = masked[100:400, 900:980]\n",
    "\n",
    "# Display the cropped image\n",
    "cv2.imshow('Cropped Image', cropped)\n",
    "cv2.waitKey(0)\n",
    "cv2.destroyAllWindows()"
   ]
  },
  {
   "cell_type": "markdown",
   "id": "fc98ed17-fda4-40b7-8192-9a4e36ab76a4",
   "metadata": {
    "jp-MarkdownHeadingCollapsed": true
   },
   "source": [
    "### Explore contour properties\n",
    "{\n",
    "    \"tags\": [\n",
    "        \"hide-cell\"\n",
    "    ]\n",
    "}"
   ]
  },
  {
   "cell_type": "code",
   "execution_count": null,
   "id": "186d409e-03bb-4686-8d73-91b04eec5932",
   "metadata": {},
   "outputs": [],
   "source": [
    "for i in range(len(contours)):\n",
    " if cv2.contourArea(contours[i]) > 10:\n",
    "   # if cv2.contourArea(contour) == 0:\n",
    "     print(i)"
   ]
  },
  {
   "cell_type": "code",
   "execution_count": null,
   "id": "1ef93b49-f537-4855-96a3-f4b0fcd9d959",
   "metadata": {},
   "outputs": [],
   "source": [
    "img_gray = cv2.cvtColor(masked, cv2.COLOR_BGR2GRAY)\n",
    "ret, thresh = cv2.threshold(img_gray, pole_top_threshold, 255, cv2.THRESH_BINARY)\n",
    "\n",
    "contours, hierarchy = cv2.findContours(thresh, cv2.RETR_EXTERNAL,\n",
    "                                       cv2.CHAIN_APPROX_NONE)\n",
    "contour_inspect = masked.copy()\n",
    "cv2.drawContours(contour_inspect, contours[48], -1, (0, 255, 0), 2,\n",
    "                 cv2.LINE_AA)\n",
    "# see the results\n",
    "cv2.imshow('masked_contour', contour_inspect)\n",
    "\n",
    "# wait for a key to be pressed to exit \n",
    "cv2.waitKey(0) \n",
    "\n",
    "# close the window \n",
    "cv2.destroyAllWindows()"
   ]
  },
  {
   "cell_type": "code",
   "execution_count": null,
   "id": "14cda5e6-fe3b-4714-a31c-205574d8cf5a",
   "metadata": {},
   "outputs": [],
   "source": [
    "cv2.contourArea(contours[16])"
   ]
  },
  {
   "cell_type": "code",
   "execution_count": null,
   "id": "69d833e6-bf33-41fe-81de-52836efa5dc5",
   "metadata": {},
   "outputs": [],
   "source": [
    "cv2.boundingRect(contours[16])"
   ]
  },
  {
   "cell_type": "markdown",
   "id": "58910985-e04d-4058-abdf-900bb2ff7070",
   "metadata": {},
   "source": [
    "### Keep cleaning up the contours\n",
    "{\n",
    "    \"tags\": [\n",
    "        \"hide-cell\"\n",
    "    ]\n",
    "}"
   ]
  },
  {
   "cell_type": "code",
   "execution_count": 858,
   "id": "adb081a1-518d-4730-aa6a-7f18a6bfaaf9",
   "metadata": {},
   "outputs": [],
   "source": [
    "points = []\n",
    "pole_v = 0\n",
    "pole_h = 0"
   ]
  },
  {
   "cell_type": "code",
   "execution_count": 859,
   "id": "2b966559-90b0-41e3-95c5-2d5ed14fa2f0",
   "metadata": {},
   "outputs": [],
   "source": [
    "diff = 1e5\n",
    "#targets = contours\n",
    "for target in contours:\n",
    "    for i in range(len(target)):\n",
    "        if abs(target[i].squeeze()[1] - approxy_top_v) + abs(target[i].squeeze()[0] - approxy_top_h) < diff:\n",
    "            diff = abs(target[i].squeeze()[1] - approxy_top_v) + abs(target[i].squeeze()[0] - approxy_top_h)\n",
    "            pole_v = target[i].squeeze()[1]\n",
    "            pole_h = target[i].squeeze()[0]\n"
   ]
  },
  {
   "cell_type": "code",
   "execution_count": 860,
   "id": "86b3d0ad-0be5-4041-9aaf-7cbadb41d0ae",
   "metadata": {},
   "outputs": [
    {
     "name": "stdout",
     "output_type": "stream",
     "text": [
      "3\n",
      "197 930\n"
     ]
    }
   ],
   "source": [
    "print(diff)\n",
    "print(pole_v, pole_h)"
   ]
  },
  {
   "cell_type": "markdown",
   "id": "68d0423f-0a06-432e-afa1-822acba6b450",
   "metadata": {
    "jp-MarkdownHeadingCollapsed": true
   },
   "source": [
    "### Analysis to extract contours\n",
    "{\n",
    "    \"tags\": [\n",
    "        \"hide-cell\"\n",
    "    ]\n",
    "}"
   ]
  },
  {
   "cell_type": "code",
   "execution_count": null,
   "id": "096906ed-b3d4-40cc-89d2-adfd42ff7fd1",
   "metadata": {},
   "outputs": [],
   "source": [
    "# Define ROI (rectangle: x, y, width, height)\n",
    "# Daytime\n",
    "roi = (approxy_top_h, approxy_top_v+10, 5, 140)  \n",
    "# Nightime\n",
    "# roi = (approxy_top_h-10, approxy_top_v-10, 30, 144)\n",
    "\n",
    "# Function to check if a point is inside the ROI\n",
    "def is_inside_roi(point, roi):\n",
    "    x, y, w, h = roi\n",
    "    return x <= point[0] <= x + w and y <= point[1] <= y + h\n",
    "\n",
    "# Function to split a contour and keep only the inside part\n",
    "def split_and_keep_inside(contour, roi):\n",
    "    inside = []\n",
    "    x, y, w, h = roi\n",
    "    roi_polygon = np.array([\n",
    "        [x, y],\n",
    "        [x + w, y],\n",
    "        [x + w, y + h],\n",
    "        [x, y + h]\n",
    "    ], dtype=np.int32)\n",
    "\n",
    "    for i in range(len(contour)):\n",
    "        current_point = contour[i][0]\n",
    "        next_point = contour[(i + 1) % len(contour)][0]  # Next point in the contour (loop back to start)\n",
    "\n",
    "        # Check if the current point is inside the ROI\n",
    "        if is_inside_roi(current_point, roi):\n",
    "            inside.append(current_point)\n",
    "\n",
    "        # Check for intersection with the ROI edges\n",
    "        for j in range(4):  # 4 edges of the rectangle\n",
    "            roi_start = roi_polygon[j]\n",
    "            roi_end = roi_polygon[(j + 1) % 4]\n",
    "\n",
    "            # Check if the edge intersects with the ROI\n",
    "            intersection = line_intersection(current_point, next_point, roi_start, roi_end)\n",
    "            if intersection is not None:\n",
    "                inside.append(intersection)\n",
    "\n",
    "    # Convert the list of points back to a numpy array (as a contour)\n",
    "    inside_contour = np.array(inside, dtype=np.int32).reshape(-1, 1, 2)\n",
    "    return inside_contour\n",
    "\n",
    "# Function to find intersection between two line segments\n",
    "def line_intersection(p1, p2, q1, q2):\n",
    "    def ccw(A, B, C):\n",
    "        return (C[1] - A[1]) * (B[0] - A[0]) > (B[1] - A[1]) * (C[0] - A[0])\n",
    "\n",
    "    if ccw(p1, q1, q2) != ccw(p2, q1, q2) and ccw(p1, p2, q1) != ccw(p1, p2, q2):\n",
    "        # Compute the intersection point\n",
    "        A1, B1 = p1, p2\n",
    "        A2, B2 = q1, q2\n",
    "        denom = (A1[0] - B1[0]) * (A2[1] - B2[1]) - (A1[1] - B1[1]) * (A2[0] - B2[0])\n",
    "        if denom == 0:\n",
    "            return None  # Lines are parallel\n",
    "        t = ((A1[0] - A2[0]) * (A2[1] - B2[1]) - (A1[1] - A2[1]) * (A2[0] - B2[0])) / denom\n",
    "        intersection = (A1[0] + t * (B1[0] - A1[0]), A1[1] + t * (B1[1] - A1[1]))\n",
    "        return tuple(map(int, intersection))\n",
    "    return None\n",
    "\n",
    "# Process the contours and keep only the parts inside the ROI\n",
    "cropped_contours = []\n",
    "for contour in contours:\n",
    "    # Check if any point is inside the ROI\n",
    "    points_inside = [pt for pt in contour if is_inside_roi(pt[0], roi)]\n",
    "    if len(points_inside) == 0:\n",
    "        # Discard contour if no points are inside the ROI\n",
    "        continue\n",
    "    elif len(points_inside) == len(contour):\n",
    "        # Keep the contour if all points are inside the ROI\n",
    "        cropped_contours.append(contour)\n",
    "    else:\n",
    "        # Split the contour and keep only the inside part\n",
    "        inside_contour = split_and_keep_inside(contour, roi)\n",
    "        if len(inside_contour) > 0:\n",
    "            cropped_contours.append(inside_contour)\n",
    "\n",
    "masked_copy2 = masked.copy()\n",
    "\n",
    "# Draw ROI\n",
    "cv2.rectangle(masked_copy2, (roi[0], roi[1]), (roi[0] + roi[2], roi[1] + roi[3]), (255, 255, 0), 1)\n",
    "\n",
    "# Draw filtered contours (inside ROI only)\n",
    "for contour in cropped_contours:\n",
    "    cv2.drawContours(masked_copy2, [contour], -1, (0, 255, 0), 2, cv2.LINE_AA)\n",
    "\n",
    "cv2.imshow(\"Contours Inside ROI\", masked_copy2)\n",
    "cv2.waitKey(0)\n",
    "cv2.destroyAllWindows()\n"
   ]
  },
  {
   "cell_type": "code",
   "execution_count": null,
   "id": "b0541814-8f8a-434b-badc-49264540ac22",
   "metadata": {},
   "outputs": [],
   "source": [
    "# Crop the image\n",
    "cropped = masked_copy2[100:400, 900:980]\n",
    "\n",
    "# cropped = masked_copy[130:470, 510:750]\n",
    "\n",
    "# cropped = masked_copy[340:470, 910:1060]\n",
    "\n",
    "# cropped = masked_copy[320:470, 560:730]\n",
    "\n",
    "# Display the cropped image\n",
    "cv2.imshow('Cropped Image', cropped)\n",
    "cv2.waitKey(0)\n",
    "cv2.destroyAllWindows()"
   ]
  },
  {
   "cell_type": "code",
   "execution_count": null,
   "id": "fa97aee6-ca38-43bd-954b-285dec936466",
   "metadata": {},
   "outputs": [],
   "source": [
    "inspect_area = 0\n",
    "for contour in cropped_contours:\n",
    "    inspect_area += cv2.contourArea(contour)\n",
    "    \n",
    "if inspect_area == 0:\n",
    "    roi = (approxy_top_h-5, approxy_top_v+10, 5, 140)\n",
    "\n",
    "# Process the contours and keep only the parts inside the ROI\n",
    "cropped_contours = []\n",
    "for contour in contours:\n",
    "    # Check if any point is inside the ROI\n",
    "    points_inside = [pt for pt in contour if is_inside_roi(pt[0], roi)]\n",
    "    if len(points_inside) == 0:\n",
    "        # Discard contour if no points are inside the ROI\n",
    "        continue\n",
    "    elif len(points_inside) == len(contour):\n",
    "        # Keep the contour if all points are inside the ROI\n",
    "        cropped_contours.append(contour)\n",
    "    else:\n",
    "        # Split the contour and keep only the inside part\n",
    "        inside_contour = split_and_keep_inside(contour, roi)\n",
    "        if len(inside_contour) > 0:\n",
    "            cropped_contours.append(inside_contour)\n",
    "\n",
    "masked_copy2 = masked.copy()\n",
    "\n",
    "# Draw ROI\n",
    "cv2.rectangle(masked_copy2, (roi[0], roi[1]), (roi[0] + roi[2], roi[1] + roi[3]), (255, 255, 0), 1)\n",
    "\n",
    "# Draw filtered contours (inside ROI only)\n",
    "for contour in cropped_contours:\n",
    "    cv2.drawContours(masked_copy2, [contour], -1, (0, 255, 0), 2, cv2.LINE_AA)\n",
    "\n",
    "cv2.imshow(\"Contours Inside ROI\", masked_copy2)\n",
    "cv2.waitKey(0)\n",
    "cv2.destroyAllWindows()"
   ]
  },
  {
   "cell_type": "code",
   "execution_count": null,
   "id": "4e8a3c51-480c-454b-9dbd-a8f5c59f6149",
   "metadata": {},
   "outputs": [],
   "source": [
    "inspect_area = 0\n",
    "for contour in cropped_contours:\n",
    "    inspect_area += cv2.contourArea(contour)\n",
    "    \n",
    "if inspect_area == 0:\n",
    "    roi = (approxy_top_h+5, approxy_top_v+10, 5, 140)\n",
    "\n",
    "# Process the contours and keep only the parts inside the ROI\n",
    "cropped_contours = []\n",
    "for contour in contours:\n",
    "    # Check if any point is inside the ROI\n",
    "    points_inside = [pt for pt in contour if is_inside_roi(pt[0], roi)]\n",
    "    if len(points_inside) == 0:\n",
    "        # Discard contour if no points are inside the ROI\n",
    "        continue\n",
    "    elif len(points_inside) == len(contour):\n",
    "        # Keep the contour if all points are inside the ROI\n",
    "        cropped_contours.append(contour)\n",
    "    else:\n",
    "        # Split the contour and keep only the inside part\n",
    "        inside_contour = split_and_keep_inside(contour, roi)\n",
    "        if len(inside_contour) > 0:\n",
    "            cropped_contours.append(inside_contour)\n",
    "\n",
    "masked_copy2 = masked.copy()\n",
    "\n",
    "# Draw ROI\n",
    "cv2.rectangle(masked_copy2, (roi[0], roi[1]), (roi[0] + roi[2], roi[1] + roi[3]), (255, 255, 0), 1)\n",
    "\n",
    "\n",
    "# Draw filtered contours (inside ROI only)\n",
    "for contour in cropped_contours:\n",
    "    cv2.drawContours(masked_copy2, [contour], -1, (0, 255, 0), 2, cv2.LINE_AA)\n",
    "\n",
    "cv2.imshow(\"Contours Inside ROI\", masked_copy2)\n",
    "cv2.waitKey(0)\n",
    "cv2.destroyAllWindows()"
   ]
  },
  {
   "cell_type": "markdown",
   "id": "deed73a4-fe2a-4769-8d39-f2cd6dcaf158",
   "metadata": {
    "jp-MarkdownHeadingCollapsed": true
   },
   "source": [
    "### Not very helpful anymore \n",
    "{\n",
    "    \"tags\": [\n",
    "        \"hide-cell\"\n",
    "    ]\n",
    "}}"
   ]
  },
  {
   "cell_type": "code",
   "execution_count": null,
   "id": "d42ecee0-9b2a-4f1f-aada-3a15b95a46d5",
   "metadata": {},
   "outputs": [],
   "source": [
    "# Function to filter contours based on a region of interest (ROI)\n",
    "def filter_contours_by_location(contours, x_min, y_min, x_max, y_max):\n",
    "    filtered_contours = []\n",
    "    for contour in contours:\n",
    "        # Get the bounding box for the contour\n",
    "        # Original array\n",
    "        points = cv2.boxPoints(cv2.minAreaRect(contour))\n",
    "        \n",
    "        # Convert to integers\n",
    "        points_int = np.round(points).astype(int)\n",
    "        \n",
    "        # Find the min and max of x and y\n",
    "        min_x = np.min(points_int[:, 0])\n",
    "        max_x = np.max(points_int[:, 0])\n",
    "        min_y = np.min(points_int[:, 1])\n",
    "        max_y = np.max(points_int[:, 1])\n",
    "        mid_x = (min_x + max_x)/2\n",
    "        mid_y = (min_y + max_y)/2\n",
    "        # Check if the contour lies within the ROI\n",
    "        if mid_x >= x_min and mid_x <= x_max and mid_y >= y_min and mid_y <= y_max:\n",
    "            filtered_contours.append(contour)\n",
    "    return filtered_contours"
   ]
  },
  {
   "cell_type": "markdown",
   "id": "e91a36a5-9ccd-4f7c-a91f-4b47e265893a",
   "metadata": {},
   "source": [
    "### Keep analyzing contours\n",
    "{\n",
    "    \"tags\": [\n",
    "        \"hide-cell\"\n",
    "    ]\n",
    "}"
   ]
  },
  {
   "cell_type": "code",
   "execution_count": null,
   "id": "8a9dc1a6-011f-4b4a-bd53-710670b9df0a",
   "metadata": {
    "scrolled": true
   },
   "outputs": [],
   "source": [
    "# Day time\n",
    "# filtered_contours2 = filter_contours_by_location(cropped_contours, approxy_top_h-5, approxy_top_v+15, pole_h+5, pole_v+144)\n",
    "# Night time, I think it works for day time as well...?\n",
    "filtered_contours2 = cropped_contours"
   ]
  },
  {
   "cell_type": "code",
   "execution_count": null,
   "id": "6ccc93aa-e50d-414d-9e08-4f04bbb6ecd9",
   "metadata": {},
   "outputs": [],
   "source": [
    "# Crop the image\n",
    "cropped = masked_copy2[100:400, 900:980]\n",
    "\n",
    "# cropped = masked_copy[130:470, 510:750]\n",
    "\n",
    "# cropped = masked_copy[340:470, 910:1060]\n",
    "\n",
    "# cropped = masked_copy[320:470, 560:730]\n",
    "\n",
    "# Display the cropped image\n",
    "cv2.imshow('Cropped Image', cropped)\n",
    "cv2.waitKey(0)\n",
    "cv2.destroyAllWindows()"
   ]
  },
  {
   "cell_type": "code",
   "execution_count": null,
   "id": "d5270e5f-6047-45be-9361-0b4d594d752e",
   "metadata": {},
   "outputs": [],
   "source": [
    "img_gray = cv2.cvtColor(masked, cv2.COLOR_BGR2GRAY)\n",
    "ret, thresh = cv2.threshold(img_gray, pole_top_threshold, 255, cv2.THRESH_BINARY)\n",
    "\n",
    "contours, hierarchy = cv2.findContours(thresh, cv2.RETR_EXTERNAL,\n",
    "                                       cv2.CHAIN_APPROX_NONE)\n",
    "contour_inspect = masked.copy()\n",
    "\n",
    "cv2.drawContours(contour_inspect, filtered_contours2, -1, (0, 255, 0), 2,\n",
    "                 cv2.LINE_AA)\n",
    "# see the results\n",
    "cv2.imshow('masked_contour', contour_inspect)\n",
    "\n",
    "# wait for a key to be pressed to exit \n",
    "cv2.waitKey(0) \n",
    "\n",
    "# close the window \n",
    "cv2.destroyAllWindows()"
   ]
  },
  {
   "cell_type": "code",
   "execution_count": null,
   "id": "16bd7caf-2b88-430b-b5e1-badc308a969c",
   "metadata": {},
   "outputs": [],
   "source": [
    "def min_distance_between_contours(contour1, contour2):\n",
    "    min_distance = float(\"inf\")\n",
    "    for point1 in contour1:\n",
    "        for point2 in contour2:\n",
    "            # Calculate the vertical distance (absolute difference of y-coordinates)\n",
    "            dist = abs(point1[0][1] - point2[0][1])  # point1[0] is the (x, y) pair\n",
    "            # print(dist)\n",
    "            min_distance = min(min_distance, dist)\n",
    "    return min_distance\n",
    "\n",
    "def filter_false_contours(contours, distance_min, distance_max):\n",
    "    filtered_contours = []\n",
    "    \n",
    "    for i, contour in enumerate(contours):\n",
    "        keep_contour = True\n",
    "        \n",
    "        for j, other_contour in enumerate(contours):\n",
    "            if i != j:\n",
    "                distance = min_distance_between_contours(contour, other_contour)\n",
    "                print(f\"Distance between contours {i} and {j}: {distance}\")\n",
    "                \n",
    "                if distance < distance_min:\n",
    "                    # Compare areas and keep the larger contour\n",
    "                    if cv2.contourArea(contour) < cv2.contourArea(other_contour):\n",
    "                        keep_contour = False\n",
    "                        break\n",
    "                elif distance > distance_max:\n",
    "                    # If distance is greater than the max threshold, keep the one that is higher (smaller y)\n",
    "                    _, _, _, h1 = cv2.boundingRect(contour)\n",
    "                    _, _, _, h2 = cv2.boundingRect(other_contour)\n",
    "                    \n",
    "                    # Compare the y-coordinate of the bounding box (higher = smaller y)\n",
    "                    if cv2.boundingRect(contour)[1] > cv2.boundingRect(other_contour)[1]:\n",
    "                        keep_contour = False\n",
    "                        break\n",
    "        \n",
    "        if keep_contour:\n",
    "            filtered_contours.append(contour)\n",
    "\n",
    "    return filtered_contours\n",
    "\n",
    "# Example usage\n",
    "distance_min = 12 # Minimum allowed distance between contours\n",
    "distance_max = 20\n",
    "filtered_contours3 = filter_false_contours(filtered_contours2, distance_min, distance_max)\n",
    "\n",
    "# Draw the remaining contours\n",
    "contour_inspect = masked.copy()\n",
    "\n",
    "cv2.drawContours(contour_inspect, filtered_contours3, -1, (0, 255, 0), 2)\n",
    "# see the results\n",
    "cv2.imshow('masked_contour', contour_inspect)\n",
    "\n",
    "# wait for a key to be pressed to exit \n",
    "cv2.waitKey(0) \n",
    "\n",
    "# close the window \n",
    "cv2.destroyAllWindows()"
   ]
  },
  {
   "cell_type": "code",
   "execution_count": null,
   "id": "9a1d9e49-8403-4be4-8359-38332167cb90",
   "metadata": {},
   "outputs": [],
   "source": [
    "# Crop the image\n",
    "cropped_filtered = contour_inspect[100:400, 900:980]\n",
    "\n",
    "# cropped = masked_copy[130:470, 510:750]\n",
    "\n",
    "# cropped = masked_copy[340:470, 910:1060]\n",
    "\n",
    "# cropped = masked_copy[320:470, 560:730]\n",
    "\n",
    "# Display the cropped image\n",
    "cv2.imshow('Cropped Image', cropped_filtered)\n",
    "cv2.waitKey(0)\n",
    "cv2.destroyAllWindows()"
   ]
  },
  {
   "cell_type": "code",
   "execution_count": null,
   "id": "c87acb37-f32e-4a06-a35b-508f7c3b64eb",
   "metadata": {
    "scrolled": true
   },
   "outputs": [],
   "source": [
    "# Function to find the bottom-most contour(s)\n",
    "def find_lowest_contours(contours):\n",
    "    lowest_contours = []\n",
    "    max_bottom_y = -1  # Initialize with a very small value\n",
    "\n",
    "    for contour in contours:\n",
    "        # Get the bounding box of the contour\n",
    "        x, y, w, h = cv2.boundingRect(contour)\n",
    "        bottom_y = y + h  # Bottom-most y-coordinate of the contour\n",
    "\n",
    "        # Update the list of lowest contours\n",
    "        if bottom_y > max_bottom_y:\n",
    "            max_bottom_y = bottom_y\n",
    "            lowest_contours = [contour]  # Replace with the new lowest contour\n",
    "        elif bottom_y == max_bottom_y:\n",
    "            lowest_contours.append(contour)  # Add if it matches the same level\n",
    "\n",
    "    return lowest_contours\n",
    "\n",
    "# Example usage\n",
    "lowest_contours = find_lowest_contours(filtered_contours3)\n",
    "\n",
    "# Draw the lowest contour(s)\n",
    "lowest_image = masked.copy()\n",
    "cv2.drawContours(lowest_image, lowest_contours, -1, (0, 255, 255), 2)\n",
    "\n",
    "# Display the result\n",
    "plt.figure(figsize=(10, 10))\n",
    "plt.imshow(cv2.cvtColor(lowest_image, cv2.COLOR_BGR2RGB))\n",
    "plt.title(\"Lowest Contours\")\n",
    "plt.axis(\"off\")\n",
    "plt.show()\n"
   ]
  },
  {
   "cell_type": "code",
   "execution_count": null,
   "id": "580ea0f9-d3d5-48b7-827d-a58a1fc4e6f7",
   "metadata": {},
   "outputs": [],
   "source": [
    "#inspect number of sections detected\n",
    "count = len(filtered_contours3)"
   ]
  },
  {
   "cell_type": "code",
   "execution_count": null,
   "id": "7c790569-2eba-484e-b573-a035335f152d",
   "metadata": {},
   "outputs": [],
   "source": [
    "x, y_min, w, h = cv2.boundingRect(lowest_contours[0])\n",
    "y_max = y_min + h - 1\n",
    "\n",
    "print(\"Min y:\", y_min)\n",
    "print(\"Max y:\", y_max)\n",
    "print(\"length of the last section:\", h)"
   ]
  },
  {
   "cell_type": "code",
   "execution_count": null,
   "id": "310163e2-827d-43aa-ad00-c6519d73209e",
   "metadata": {},
   "outputs": [],
   "source": [
    "counts.append(count)\n",
    "last_length.append(h)"
   ]
  },
  {
   "cell_type": "code",
   "execution_count": null,
   "id": "66203914-46fe-4ef1-9ade-44c64d342de2",
   "metadata": {},
   "outputs": [],
   "source": [
    "print(date_time)\n",
    "print(counts)\n",
    "print(last_length)"
   ]
  },
  {
   "cell_type": "code",
   "execution_count": null,
   "id": "f130cdb2-436f-4c91-a30f-a4326d17ef23",
   "metadata": {},
   "outputs": [],
   "source": [
    "sum_tbl = pd.DataFrame({'date_time':date_time, 'counts': counts, 'last_length': last_length})"
   ]
  },
  {
   "cell_type": "code",
   "execution_count": null,
   "id": "74464761-e9c0-4b05-b80e-eefc6dd21809",
   "metadata": {},
   "outputs": [],
   "source": [
    "# The scope of these changes made to\n",
    "# pandas settings are local to with statement.\n",
    "with pd.option_context('display.max_rows', None,\n",
    "                       'display.max_columns', None,\n",
    "                       'display.precision', 3,\n",
    "                       ):\n",
    "    print(sum_tbl)"
   ]
  },
  {
   "cell_type": "markdown",
   "id": "fb0a9718-a70d-45c7-9f3f-a8de9721eee3",
   "metadata": {
    "jp-MarkdownHeadingCollapsed": true
   },
   "source": [
    "### Experiments used for night-time images\n",
    "{\n",
    "    \"tags\": [\n",
    "        \"hide-cell\"\n",
    "    ]\n",
    "}"
   ]
  },
  {
   "cell_type": "code",
   "execution_count": null,
   "id": "aa294207-1c18-461a-b4c4-91946f189a66",
   "metadata": {},
   "outputs": [],
   "source": [
    "area_full = 0\n",
    "for i in range(len(filtered_contours2)):\n",
    "    area_cont = cv2.contourArea(filtered_contours2[i])\n",
    "    if area_cont > area_full:\n",
    "        area_full = area_cont\n",
    "\n",
    "print(area_full)"
   ]
  },
  {
   "cell_type": "code",
   "execution_count": null,
   "id": "9f149806-fd35-49b6-8a2f-f694265db39a",
   "metadata": {},
   "outputs": [],
   "source": [
    "last_area = cv2.contourArea(lowest_contours[0])\n",
    "print(last_area)"
   ]
  },
  {
   "cell_type": "code",
   "execution_count": null,
   "id": "96dd0298-c459-4c65-8037-6c07b0d29c79",
   "metadata": {},
   "outputs": [],
   "source": [
    "lowest_decimal = last_area / area_full\n",
    "print(lowest_decimal)"
   ]
  },
  {
   "cell_type": "code",
   "execution_count": null,
   "id": "9e871e4c-7074-46f7-9b3e-2302d97d3a40",
   "metadata": {},
   "outputs": [],
   "source": [
    "count_full = len(filtered_contours2) - 1\n",
    "print(count_full)"
   ]
  },
  {
   "cell_type": "code",
   "execution_count": null,
   "id": "b4b3438a-1669-40a8-b35b-2bbaeffc557b",
   "metadata": {},
   "outputs": [],
   "source": [
    "counts_full.append(count_full)\n",
    "last_decimal.append(lowest_decimal)"
   ]
  },
  {
   "cell_type": "code",
   "execution_count": null,
   "id": "957696f2-6f86-4186-bfb6-474cf28c456a",
   "metadata": {},
   "outputs": [],
   "source": [
    "print(date_time)\n",
    "print(counts_full)\n",
    "print(last_decimal)"
   ]
  },
  {
   "cell_type": "code",
   "execution_count": null,
   "id": "d76fee6c-c8dd-40c8-815e-6ebd0cabc9f4",
   "metadata": {},
   "outputs": [],
   "source": [
    "sum_tbl = pd.DataFrame({'date_time':date_time, 'counts_full': counts_full, 'last_decimal': last_decimal})"
   ]
  },
  {
   "cell_type": "code",
   "execution_count": null,
   "id": "181e8770-8bc5-4d3e-8d0c-2bb49c88adae",
   "metadata": {},
   "outputs": [],
   "source": [
    "sum_tbl.head()"
   ]
  },
  {
   "cell_type": "code",
   "execution_count": null,
   "id": "33c7aec9-76e7-4050-81e7-1b242282c5e2",
   "metadata": {},
   "outputs": [],
   "source": [
    "sum_tbl['last_count'] = [1 if x > 0.5 else 0.5 for x in sum_tbl.last_decimal]\n",
    "sum_tbl['counts'] = sum_tbl.counts_full + sum_tbl.last_count"
   ]
  },
  {
   "cell_type": "markdown",
   "id": "e8ccb3e8-e4ec-48b2-8e47-ec52b275108b",
   "metadata": {},
   "source": [
    "### Pixel Analysis\n",
    "{\n",
    "    \"tags\": [\n",
    "        \"hide-cell\"\n",
    "    ]\n",
    "}"
   ]
  },
  {
   "cell_type": "code",
   "execution_count": null,
   "id": "fce51c2a-f8ce-42bd-a939-da2d5f32d4cd",
   "metadata": {},
   "outputs": [],
   "source": [
    "#y_coords = np.linspace(932, 925, 200).round().astype('int64')\n",
    "#x_coords = np.linspace(341, 237, 200).round().astype('int64')\n",
    "#blue = []\n",
    "#green = []\n",
    "#red = []\n",
    "#vertical = []\n",
    "#horizontal = []\n",
    "## print('top y coord:',x_coords[0])\n",
    "#for (x, y) in zip(x_coords, y_coords):\n",
    "#    # print('coordinates', y, x)\n",
    "#    # print(img[x, y])\n",
    "#    b, g, r = image[x, y]\n",
    "#    x, y = x, y\n",
    "#    blue.append(b)\n",
    "#    green.append(g)\n",
    "#    red.append(r)\n",
    "#    vertical.append(x)\n",
    "#    horizontal.append(y)"
   ]
  },
  {
   "cell_type": "code",
   "execution_count": null,
   "id": "a239e860-35f5-4443-8644-2bee7987a645",
   "metadata": {},
   "outputs": [],
   "source": [
    "## get the list of tuples from two lists.\n",
    "## and merge them by using zip().\n",
    "#list_of_tuples = list(zip(vertical, horizontal, blue, green, red))\n",
    "#\n",
    "## Assign data to tuples.\n",
    "#list_of_tuples\n",
    "#\n",
    "#\n",
    "## Converting lists of tuples into\n",
    "## pandas Dataframe.\n",
    "#df_pole = pd.DataFrame(list_of_tuples,\n",
    "#                  columns=['x_vertical', 'y_horizontal', 'blue','green','red'])\n",
    "#\n",
    "## Print data.\n",
    "#df_pole[df_pole.x_vertical==264]"
   ]
  },
  {
   "cell_type": "code",
   "execution_count": null,
   "id": "8d8e8ff4-da45-4791-94eb-156e27aca328",
   "metadata": {},
   "outputs": [],
   "source": [
    "#y_coords = np.linspace(pole_top[1]-10, pole_top[1], 200).round().astype('int64')\n",
    "#x_coords = np.linspace(pole_top[0]+150, pole_top[0], 200).round().astype('int64')\n",
    "#blue = []\n",
    "#green = []\n",
    "#red = []\n",
    "#vertical = []\n",
    "#horizontal = []\n",
    "#for (x, y) in zip(x_coords, y_coords):\n",
    "#    # print('coordinates', y, x)\n",
    "#    # print(img[x, y])\n",
    "#    b, g, r = adjusted[x, y]\n",
    "#    x, y = x, y\n",
    "#    diff = int(r)-int(b)\n",
    "#    blue.append(b)\n",
    "#    green.append(g)\n",
    "#    red.append(r)\n",
    "#    vertical.append(x)\n",
    "#    horizontal.append(y)\n",
    "#    # if ((b>101 and g>101 and r>101) and (blue[-2]<100 and green[-2]<100 and red[-2]>=120)):\n",
    "#    #     print('coordinates', y, x)\n",
    "#    #     print('1 segment')\n",
    "#\n",
    "#    if ((b<r and g<r and r>120) or (b>150 and g>150 and r>150)):\n",
    "#        print('water coordinates', y, x)\n",
    "#        print(b, g, r)\n",
    "#        break"
   ]
  },
  {
   "cell_type": "code",
   "execution_count": 861,
   "id": "4d242276-7cd3-499e-8e57-bb6e9412f586",
   "metadata": {},
   "outputs": [],
   "source": [
    "y_coords = np.linspace(pole_h, pole_h-10, 50).round().astype('int64')\n",
    "x_coords = np.linspace(pole_v, pole_v+150, 50).round().astype('int64')\n",
    "blue = []\n",
    "green = []\n",
    "red = []\n",
    "vertical = []\n",
    "horizontal = []\n",
    "for (x, y) in zip(x_coords, y_coords):\n",
    "    # print('coordinates', y, x)\n",
    "    # print(img[x, y])\n",
    "    b, g, r = adjusted[x, y]\n",
    "    x, y = x, y\n",
    "        \n",
    "    blue.append(b)\n",
    "    green.append(g)\n",
    "    red.append(r)\n",
    "    vertical.append(x)\n",
    "    horizontal.append(y)\n"
   ]
  },
  {
   "cell_type": "code",
   "execution_count": 862,
   "id": "2233b323-74af-4fd2-8ca5-b14d82a5b57b",
   "metadata": {},
   "outputs": [],
   "source": [
    "pd.set_option('display.max_rows', None)\n",
    "pd.set_option('display.max_columns', None)\n",
    "color_inspect = pd.DataFrame({'horizontal': horizontal, 'vertical':vertical, 'r':red, 'g':green, 'b': blue})"
   ]
  },
  {
   "cell_type": "code",
   "execution_count": null,
   "id": "9d2475bc-5989-4d40-8030-f7b8ac2a7d96",
   "metadata": {
    "scrolled": true
   },
   "outputs": [],
   "source": [
    "# print(color_inspect)"
   ]
  },
  {
   "cell_type": "code",
   "execution_count": 863,
   "id": "acacdb49-cdbc-4768-a93c-638b20372149",
   "metadata": {
    "scrolled": true
   },
   "outputs": [
    {
     "name": "stdout",
     "output_type": "stream",
     "text": [
      "134\n",
      "130\n"
     ]
    }
   ],
   "source": [
    "print(r_threshold)\n",
    "print(round(r_threshold,-1))"
   ]
  },
  {
   "cell_type": "code",
   "execution_count": 864,
   "id": "ed077171-dff1-4761-9b3a-b558afb9a47e",
   "metadata": {},
   "outputs": [
    {
     "name": "stdout",
     "output_type": "stream",
     "text": [
      "water coordinates 930 207\n",
      "109 112 117\n"
     ]
    }
   ],
   "source": [
    "y_coords = np.linspace(pole_h, pole_h-10, 50).round().astype('int64')\n",
    "x_coords = np.linspace(pole_v+10, pole_v+150, 50).round().astype('int64')\n",
    "blue = []\n",
    "green = []\n",
    "red = []\n",
    "vertical = []\n",
    "horizontal = []\n",
    "#potential_spots =[]\n",
    "for (x, y) in zip(x_coords, y_coords):\n",
    "    # print('coordinates', y, x)\n",
    "    # print(img[x, y])\n",
    "    b, g, r = adjusted[x, y]\n",
    "    x, y = x, y\n",
    "    diff = int(r)-int(b)\n",
    "    blue.append(b)\n",
    "    green.append(g)\n",
    "    red.append(r)\n",
    "    vertical.append(x)\n",
    "    horizontal.append(y)\n",
    "    # if ((b>101 and g>101 and r>101) and (blue[-2]<100 and green[-2]<100 and red[-2]>=120)):\n",
    "    #     print('coordinates', y, x)\n",
    "    #     print('1 segment')\n",
    "\n",
    "    if (r < r_threshold) or (r < 100):\n",
    "        print('water coordinates', y, x)\n",
    "        print(b, g, r)\n",
    "        break"
   ]
  },
  {
   "cell_type": "code",
   "execution_count": null,
   "id": "81f7512e-00c3-49ed-8727-53a81a5ecaa7",
   "metadata": {
    "scrolled": true
   },
   "outputs": [],
   "source": [
    "# Define the condition as a function for reusability\n",
    "# def meets_condition(element):\n",
    "\n",
    "#     return (element < round(r_threshold,-1)) or (element < 100)  \n",
    "\n",
    "# # Initialize variables\n",
    "# buffer = []  # To store the 5(3?) elements temporarily\n",
    "# buffer_idx = []\n",
    "# for idx, element in enumerate(color_inspect.r):\n",
    "#     if meets_condition(element):\n",
    "#         buffer.append(element)\n",
    "#         buffer_idx.append(idx)\n",
    "#         if len(buffer) == 10:  # Check if we have collected 5(3?) elements\n",
    "#             if all(meets_condition(e) for e in buffer):  # Validate all 5(3?) elements\n",
    "#                 print(\"Condition met for 5 consecutive cases.\")\n",
    "#                 print(\"First element of the 5:\", buffer[0])\n",
    "#                 print(\"First element of the 5 locate at:\", color_inspect.vertical.iloc[buffer_idx[0]])\n",
    "#                 break\n",
    "#             else:\n",
    "#                 buffer = []  # Reset the buffer if condition fails\n",
    "#                 buffer_idx = []\n",
    "#     else:\n",
    "#         buffer = []  # Reset the buffer if the current element doesn't meet the condition\n",
    "#         buffer_idx = []\n",
    "\n",
    "# else:\n",
    "#     print(\"No such sequence found.\")"
   ]
  },
  {
   "cell_type": "code",
   "execution_count": null,
   "id": "12e4f9dd-9b04-442e-900a-263df4aec530",
   "metadata": {},
   "outputs": [],
   "source": [
    "# water_v = color_inspect.vertical.iloc[buffer_idx[0]]\n",
    "# water_h = color_inspect.horizontal.iloc[buffer_idx[0]]"
   ]
  },
  {
   "cell_type": "code",
   "execution_count": 865,
   "id": "1ea76ddc-ab5d-4d83-afb3-6d238766a945",
   "metadata": {},
   "outputs": [],
   "source": [
    "water_v = x\n",
    "water_h = y"
   ]
  },
  {
   "cell_type": "code",
   "execution_count": 866,
   "id": "2aba04a2-aa44-4baa-978e-42c8201866c2",
   "metadata": {},
   "outputs": [],
   "source": [
    "# Make one pixel red\n",
    "image2 = masked.copy()\n",
    "image2[(water_v-3):(water_v+3),(water_h-10):(water_h+10)]=[0,0,0]\n",
    "\n",
    "# see the results\n",
    "cv2.imshow('find water', image2)\n",
    "\n",
    "# wait for a key to be pressed to exit \n",
    "cv2.waitKey(0) \n",
    "\n",
    "# close the window \n",
    "cv2.destroyAllWindows()"
   ]
  },
  {
   "cell_type": "code",
   "execution_count": 867,
   "id": "5af21c2d-c251-4e82-81f0-8cd22b637a05",
   "metadata": {},
   "outputs": [],
   "source": [
    "# Crop the image\n",
    "cropped = image2[100:400, 900:980]\n",
    "\n",
    "# cropped = masked_copy[130:470, 510:750]\n",
    "\n",
    "# cropped = masked_copy[340:470, 910:1060]\n",
    "\n",
    "# cropped = masked_copy[320:470, 560:730]\n",
    "\n",
    "# Display the cropped image\n",
    "cv2.imshow('Cropped Image', cropped)\n",
    "cv2.waitKey(0)\n",
    "cv2.destroyAllWindows()"
   ]
  },
  {
   "cell_type": "code",
   "execution_count": 868,
   "id": "bfcd01b3-0b02-47f7-aff6-2861fb30a281",
   "metadata": {},
   "outputs": [],
   "source": [
    "top.append(pole_v)\n",
    "bottom.append(water_v)"
   ]
  },
  {
   "cell_type": "code",
   "execution_count": 869,
   "id": "ce5a6181-d69e-471c-a8ff-86b888813a32",
   "metadata": {},
   "outputs": [
    {
     "name": "stdout",
     "output_type": "stream",
     "text": [
      "['202409260745', '202409260800', '202409260815', '202409260830', '202409260845', '202409260900', '202409260945', '202409261000', '202409261015', '202409261030', '202409261045', '202409261100', '202409261115', '202409261130', '202409261145', '202409261200', '202409261215', '202409261230', '202409261245', '202409261300', '202409261315', '202409261330', '202409261345', '202409261400', '202409261415', '202409261430', '202409261445', '202409261500', '202409261515']\n",
      "[203, 204, 203, 205, 204, 196, 204, 207, 202, 203, 201, 205, 199, 201, 208, 200, 200, 198, 199, 196, 202, 200, 198, 200, 202, 201, 200, 201, 197]\n",
      "[244, 240, 247, 241, 243, 206, 240, 234, 229, 213, 231, 355, 209, 211, 218, 210, 233, 208, 232, 212, 235, 230, 237, 244, 215, 251, 250, 217, 207]\n",
      "[241, 237, 246, 242, 245, 235, 242, 231, 226, 224, 229, 225, 228, 223, 234, 237, 226, 230, 237, 242, 238, 235, 233, 246, 251, 249, 249, 227, 231]\n"
     ]
    }
   ],
   "source": [
    "print(date_time)\n",
    "print(top)\n",
    "print(bottom)\n",
    "print(bottom_manual)"
   ]
  },
  {
   "cell_type": "code",
   "execution_count": 870,
   "id": "78ae09f2-c1dc-414c-875a-ff97cf5a1905",
   "metadata": {},
   "outputs": [],
   "source": [
    "sum_tbl = pd.DataFrame({'date_time':date_time, 'pole_top': top, 'pole_bottom': bottom, 'bottom_check': bottom_manual})"
   ]
  },
  {
   "cell_type": "code",
   "execution_count": 871,
   "id": "e37805a5-f86c-4fea-8b2a-79eae53f59f9",
   "metadata": {},
   "outputs": [
    {
     "name": "stdout",
     "output_type": "stream",
     "text": [
      "       date_time  pole_top  pole_bottom  bottom_check\n",
      "0   202409260745       203          244           241\n",
      "1   202409260800       204          240           237\n",
      "2   202409260815       203          247           246\n",
      "3   202409260830       205          241           242\n",
      "4   202409260845       204          243           245\n",
      "5   202409260900       196          206           235\n",
      "6   202409260945       204          240           242\n",
      "7   202409261000       207          234           231\n",
      "8   202409261015       202          229           226\n",
      "9   202409261030       203          213           224\n",
      "10  202409261045       201          231           229\n",
      "11  202409261100       205          355           225\n",
      "12  202409261115       199          209           228\n",
      "13  202409261130       201          211           223\n",
      "14  202409261145       208          218           234\n",
      "15  202409261200       200          210           237\n",
      "16  202409261215       200          233           226\n",
      "17  202409261230       198          208           230\n",
      "18  202409261245       199          232           237\n",
      "19  202409261300       196          212           242\n",
      "20  202409261315       202          235           238\n",
      "21  202409261330       200          230           235\n",
      "22  202409261345       198          237           233\n",
      "23  202409261400       200          244           246\n",
      "24  202409261415       202          215           251\n",
      "25  202409261430       201          251           249\n",
      "26  202409261445       200          250           249\n",
      "27  202409261500       201          217           227\n",
      "28  202409261515       197          207           231\n"
     ]
    }
   ],
   "source": [
    "# The scope of these changes made to\n",
    "# pandas settings are local to with statement.\n",
    "with pd.option_context('display.max_rows', None,\n",
    "                       'display.max_columns', None,\n",
    "                       'display.precision', 3,\n",
    "                       ):\n",
    "    print(sum_tbl)"
   ]
  },
  {
   "cell_type": "code",
   "execution_count": null,
   "id": "f8365547-e1e8-4011-b657-d8f732104a42",
   "metadata": {},
   "outputs": [],
   "source": []
  }
 ],
 "metadata": {
  "kernelspec": {
   "display_name": "Python 3 (ipykernel)",
   "language": "python",
   "name": "python3"
  },
  "language_info": {
   "codemirror_mode": {
    "name": "ipython",
    "version": 3
   },
   "file_extension": ".py",
   "mimetype": "text/x-python",
   "name": "python",
   "nbconvert_exporter": "python",
   "pygments_lexer": "ipython3",
   "version": "3.9.19"
  }
 },
 "nbformat": 4,
 "nbformat_minor": 5
}
